{
 "cells": [
  {
   "cell_type": "code",
   "execution_count": null,
   "metadata": {
    "collapsed": true
   },
   "outputs": [],
   "source": [
    "%matplotlib inline\n",
    "import matplotlib.pyplot as plt\n",
    "import numpy as np"
   ]
  },
  {
   "cell_type": "markdown",
   "metadata": {},
   "source": [
    "# Ticks\n",
    "\n",
    "Let's say you have a graph that uses custom ticks. For instance, the ticks can be hours. \n",
    "We use the `plt.xticks` method to display custom ticks.\n",
    "\n",
    "When making custom ticks you need to give the two following parameters : \n",
    "- ticks location \n",
    "- ticks label \n",
    "\n",
    "## Ticks locations"
   ]
  },
  {
   "cell_type": "code",
   "execution_count": 45,
   "metadata": {
    "collapsed": true
   },
   "outputs": [],
   "source": [
    "ticks_locs = np.arange(min(data), max(data), 20)"
   ]
  },
  {
   "cell_type": "markdown",
   "metadata": {},
   "source": [
    "## Ticks labels"
   ]
  },
  {
   "cell_type": "code",
   "execution_count": 47,
   "metadata": {
    "collapsed": true
   },
   "outputs": [],
   "source": [
    "ticks_labels = [(\"%02d\" % int(el / 60)) +\":\"+ (\"%02d\" % int(el % 60))for el in np.arange(min(data), max(data), 20)]"
   ]
  },
  {
   "cell_type": "markdown",
   "metadata": {},
   "source": [
    "## Example \n",
    "Let's take an example : I want to plot the hours my TV is on. Let's say it follows a Gaussian distribution, which mean is at 8pm, with a standard deviation of 15 minutes."
   ]
  },
  {
   "cell_type": "code",
   "execution_count": 49,
   "metadata": {
    "collapsed": false
   },
   "outputs": [
    {
     "data": {
      "text/plain": [
       "([<matplotlib.axis.XTick at 0x137ce5650>,\n",
       "  <matplotlib.axis.XTick at 0x137ea5e10>,\n",
       "  <matplotlib.axis.XTick at 0x137f9ae50>,\n",
       "  <matplotlib.axis.XTick at 0x1388cf610>,\n",
       "  <matplotlib.axis.XTick at 0x1388cfd50>,\n",
       "  <matplotlib.axis.XTick at 0x1388d84d0>],\n",
       " <a list of 6 Text xticklabel objects>)"
      ]
     },
     "execution_count": 49,
     "metadata": {},
     "output_type": "execute_result"
    },
    {
     "data": {
      "image/png": "[encoded data removed]",
      "text/plain": [
       "<matplotlib.figure.Figure at 0x137e70ed0>"
      ]
     },
     "metadata": {},
     "output_type": "display_data"
    }
   ],
   "source": [
    "data = np.random.normal(loc=60*20, scale=15, size=(2000,1))\n",
    "plt.hist(data, 50, normed=True, facecolor='green', alpha=0.75)\n",
    "plt.xticks(ticks_locs, ticks_labels)"
   ]
  }
 ],
 "metadata": {
  "kernelspec": {
   "display_name": "Python 2",
   "language": "python",
   "name": "python2"
  },
  "language_info": {
   "codemirror_mode": {
    "name": "ipython",
    "version": 2
   },
   "file_extension": ".py",
   "mimetype": "text/x-python",
   "name": "python",
   "nbconvert_exporter": "python",
   "pygments_lexer": "ipython2",
   "version": "2.7.11"
  }
 },
 "nbformat": 4,
 "nbformat_minor": 0
}
